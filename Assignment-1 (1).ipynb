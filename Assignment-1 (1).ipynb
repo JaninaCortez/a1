{
 "cells": [
  {
   "cell_type": "markdown",
   "metadata": {},
   "source": [
    "# Task 1"
   ]
  },
  {
   "cell_type": "markdown",
   "metadata": {},
   "source": [
    "1.\tWrite a Regular Expression that will match a date that follows the following standard “YYYY-MM-DD”."
   ]
  },
  {
   "cell_type": "code",
   "execution_count": null,
   "metadata": {},
   "outputs": [],
   "source": [
    "import re\n",
    "\n",
    "pattern = \"^\\d{4}[-](0[1-9]|1[0-2])[-](0[1-9]|[12][0-9]|3[01])$\"\n",
    "user_input = input()\n",
    "if(re.search(pattern, user_input)):\n",
    "    print(\"Matched!\")\n",
    "    \n",
    "# Reference: https://www.linkedin.com/learning/learning-regular-expressions-2011/matching-dates?u=2175986"
   ]
  },
  {
   "cell_type": "markdown",
   "metadata": {},
   "source": [
    "2.\tWrite a Regular Expression that will match a North American phone number."
   ]
  },
  {
   "cell_type": "code",
   "execution_count": null,
   "metadata": {},
   "outputs": [],
   "source": [
    "import re\n",
    "\n",
    "phn = \"\\d{3}-\\d{3}-\\d{4}\"\n",
    "user_input = input()\n",
    "\n",
    "if re.search(phn, user_input):\n",
    "    print(\"Matched!\")\n",
    "else:\n",
    "    print(\"None!\")"
   ]
  },
  {
   "cell_type": "markdown",
   "metadata": {},
   "source": [
    "3.\tWrite a Regular Expression that will match an email address."
   ]
  },
  {
   "cell_type": "code",
   "execution_count": null,
   "metadata": {},
   "outputs": [],
   "source": [
    "\n",
    "import re\n",
    "pattern = \"[a-zA-Z0-9]+@[a-zA-Z]+\\.(com|edu)\"\n",
    "user_input = input()\n",
    "if(re.search(pattern, user_input)):\n",
    "    print(\"valid email\")"
   ]
  },
  {
   "cell_type": "code",
   "execution_count": null,
   "metadata": {},
   "outputs": [],
   "source": [
    "#3 - Another way to execute the code\n",
    "\n",
    "import re\n",
    "pattern = \"^\\w+@\\w+\\.\\w{3}$\"\n",
    "user_input = input()\n",
    "\n",
    "if re.search(pattern, user_input):\n",
    "    print(\"Valid Email\")\n",
    "    \n",
    "# Reference: https://www.linkedin.com/learning/learning-regular-expressions-2011/matching-email-addresses?u=2175986"
   ]
  },
  {
   "cell_type": "markdown",
   "metadata": {},
   "source": [
    "4.\tWrite a program to calculate distance so that it takes two Points (x1, y1) and (x2, y2) as arguments and displays the calculated distance, using Class."
   ]
  },
  {
   "cell_type": "code",
   "execution_count": null,
   "metadata": {},
   "outputs": [],
   "source": [
    "import math\n",
    "\n",
    "class distance:\n",
    "    \n",
    "    def __init__(self,x1,x2,y1,y2):   #initilizating of class\n",
    "        self.x1=x1\n",
    "        self.x2=x2\n",
    "        self.y1=y1\n",
    "        self.y2=y2\n",
    "    def calc(self,x1,y1,x2,y2):     #creating the Function with distancce parameter\n",
    "        total_distance=math.sqrt(math.pow(x2 - x1, 2) +\n",
    "                math.pow(y2 - y1, 2) * 1.0)\n",
    "        return total_distance"
   ]
  },
  {
   "cell_type": "code",
   "execution_count": null,
   "metadata": {},
   "outputs": [],
   "source": [
    "new=distance(0,0,0,0)   #creating the Object"
   ]
  },
  {
   "cell_type": "code",
   "execution_count": null,
   "metadata": {},
   "outputs": [],
   "source": [
    "new.calc(3, 4, 4, 3)"
   ]
  },
  {
   "cell_type": "markdown",
   "metadata": {},
   "source": [
    "5. Create random vector of size 50 and replace the maximum value by 0 and minimum value by 100"
   ]
  },
  {
   "cell_type": "code",
   "execution_count": null,
   "metadata": {},
   "outputs": [],
   "source": [
    "import numpy as np\n",
    "\n",
    "vector1=np.random.random(50)      #creating the random vector\n",
    "print(vector1)\n",
    "vector1[vector1.argmax()] = 0      #replacing the value by max 0 and min 100\n",
    "vector1[vector1.argmin()] = 100\n",
    "print(\"Maximum value replaced by 0:\")\n",
    "print(\"Minimun value replaced by 100\")\n",
    "print(vector1)"
   ]
  },
  {
   "cell_type": "markdown",
   "metadata": {},
   "source": [
    "# Task 2"
   ]
  },
  {
   "cell_type": "markdown",
   "metadata": {},
   "source": [
    "1.\tCreate below matrix using scipy."
   ]
  },
  {
   "cell_type": "code",
   "execution_count": null,
   "metadata": {},
   "outputs": [],
   "source": [
    "# using numpy\n",
    "import numpy as np\n",
    "#data = np.zeros(shape=(10,10))\n",
    "#\n",
    "#for i in range(0, 10):\n",
    "#    for j in range(0, 10):\n",
    "#        if i == j:\n",
    "#            data[i,j] = 2\n",
    "#        if i == j + 2 or i + 2 == j :\n",
    "#            data[i,j] = 1\n",
    "#            \n",
    "#print(data)\n",
    "\n",
    "\n",
    "#using scipy\n",
    "from scipy.sparse import coo_matrix\n",
    "\n",
    "\n",
    "m = coo_matrix((10, 10)) #create a 10x10 coo matrix \n",
    "\n",
    "m = m.todok() # convert to dok matrix to be able to update it\n",
    "for i in range(10): # update the dok matrix\n",
    "    for j in range(10):\n",
    "        if i == j:\n",
    "            m[i, j] = 2          # if i and j are equal the data for that point is 2\n",
    "        if i == j+2 or i+2 == j:\n",
    "            m[i, j] = 1          # if there is a difference of 2 between i and j, value of that point is 1\n",
    "            \n",
    "m = m.tocoo() # convert back to coo\n",
    "print(m.toarray()) #convert to array and print"
   ]
  },
  {
   "cell_type": "markdown",
   "metadata": {},
   "source": [
    "2.\tReproduce given plot by correcting the below code."
   ]
  },
  {
   "cell_type": "code",
   "execution_count": null,
   "metadata": {},
   "outputs": [],
   "source": [
    "from pylab import *\n",
    "\n",
    "n = 256\n",
    "X = np.linspace(-np.pi,np.pi,n,endpoint=True)\n",
    "Y = np.sin(2 * X)\n",
    "\n",
    "plot (X, Y+1, color='blue', alpha=1.00)\n",
    "fill_between(X, 1, Y + 1, color='blue', alpha=.25)\n",
    "\n",
    "\n",
    "plot (X, Y-1, color='blue', alpha=1.00)\n",
    "fill_between(X, -1, Y - 1, (Y - 1) > -1, color='blue', alpha=.25)\n",
    "fill_between(X, -1, Y - 1, (Y - 1) < -1, color='red',  alpha=.25)  #filling the area below (Y - 1) < -1 with red color\n",
    "\n",
    "show()"
   ]
  },
  {
   "cell_type": "code",
   "execution_count": null,
   "metadata": {},
   "outputs": [],
   "source": []
  }
 ],
 "metadata": {
  "kernelspec": {
   "display_name": "Python 3",
   "language": "python",
   "name": "python3"
  },
  "language_info": {
   "codemirror_mode": {
    "name": "ipython",
    "version": 3
   },
   "file_extension": ".py",
   "mimetype": "text/x-python",
   "name": "python",
   "nbconvert_exporter": "python",
   "pygments_lexer": "ipython3",
   "version": "3.8.3"
  }
 },
 "nbformat": 4,
 "nbformat_minor": 4
}
